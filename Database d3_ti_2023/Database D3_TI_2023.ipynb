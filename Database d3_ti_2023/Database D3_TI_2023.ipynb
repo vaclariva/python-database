{
 "cells": [
  {
   "cell_type": "code",
   "execution_count": 3,
   "id": "e966aa00",
   "metadata": {},
   "outputs": [
    {
     "name": "stdout",
     "output_type": "stream",
     "text": [
      "Database berhasil dibuat\n"
     ]
    }
   ],
   "source": [
    "import mysql.connector\n",
    "\n",
    "dataBase = mysql.connector.connect(\n",
    "    host = \"localhost\",\n",
    "    user =\"root\",\n",
    "    passwd = \"\"\n",
    ")\n",
    "\n",
    "cursorObject = dataBase.cursor()\n",
    "\n",
    "cursorObject.execute(\"CREATE DATABASE D3_TI_2023\")\n",
    "print(\"Database berhasil dibuat\")"
   ]
  },
  {
   "cell_type": "code",
   "execution_count": 4,
   "id": "3c41f68a",
   "metadata": {},
   "outputs": [
    {
     "name": "stdout",
     "output_type": "stream",
     "text": [
      "<mysql.connector.connection_cext.CMySQLConnection object at 0x0000024137113C70>\n"
     ]
    },
    {
     "data": {
      "text/plain": [
       "<bound method CMySQLConnection.close of <mysql.connector.connection_cext.CMySQLConnection object at 0x0000024137113C70>>"
      ]
     },
     "execution_count": 4,
     "metadata": {},
     "output_type": "execute_result"
    }
   ],
   "source": [
    "# menghubungkan dan mengoperasikan database MySQL dari Python.\n",
    "import mysql.connector\n",
    "\n",
    "#Buat koneksi ke database MySQL menggunakan metode mysql.connector.connect(), koneksi ke database d3_ti_2023 pada server localhost dilakukan dengan username root dan tanpa password.\n",
    "conn = mysql.connector.connect(user = 'root',\n",
    "    host = 'localhost',\n",
    "    database = 'd3_ti_2023')\n",
    "\n",
    "#Cetak koneksi untuk mengecek apakah koneksi berhasil terbentuk.\n",
    "print(conn)\n",
    "\n",
    "#Tutup koneksi ke database MySQL \n",
    "conn.close"
   ]
  },
  {
   "cell_type": "code",
   "execution_count": 5,
   "id": "f5b6efd0",
   "metadata": {},
   "outputs": [
    {
     "name": "stdout",
     "output_type": "stream",
     "text": [
      "Tabel Mata Kuliah berhasil dibuat\n",
      "Tabel Mahasiswa berhasil dibuat\n",
      "Tabel Dosen berhasil dibuat\n"
     ]
    }
   ],
   "source": [
    "# menghubungkan dan mengoperasikan database MySQL dari Python\n",
    "import mysql.connector\n",
    "\n",
    "#buat koneksi ke database MySQL\n",
    "dataBase = mysql.connector.connect(\n",
    "    host=\"localhost\",\n",
    "    user=\"root\",\n",
    "    passwd=\"\",\n",
    "    database=\"d3_ti_2023\"\n",
    ")\n",
    "\n",
    "cursorObject = dataBase.cursor() #mengeksekusi perintah SQL dan mengambil hasilnya\n",
    "\n",
    "cursorObject.execute(\"use d3_ti_2023 \") #memilih database agar program dapat dijalankan\n",
    "\n",
    "# membuat Tabel Mata Kuliah\n",
    "#yang terdiri dari kolom kode mata kuliah, nama, waktu, dan ruangan \n",
    "matkulTable = \"\"\"CREATE TABLE MATA_KULIAH (\n",
    "                 KODE_MATKUL VARCHAR(10) PRIMARY KEY NOT NULL,\n",
    "                 NAMA VARCHAR(50) NOT NULL,\n",
    "                 WAKTU DATE,\n",
    "                 RUANGAN VARCHAR(10)\n",
    "                 )\"\"\"\n",
    "\n",
    "cursorObject.execute(matkulTable) #menjalankan perintah SQL untuk membuat tabel MATA_KULIAH\n",
    "print(\"Tabel Mata Kuliah berhasil dibuat\")#print pesan berhasil\n",
    "\n",
    "# membuat Tabel Mahasiswa\n",
    "# kolom NIM, NAMA, ALAMAT, UMUR, dan MATA_KULIAH_KODE. mendefinisikan MATA_KULIAH_KODE sebagai foreign key yang mengacu pada kolom KODE_MATKUL di tabel MATA_KULIAH\n",
    "mahasiswaTable = \"\"\"CREATE TABLE MAHASISWA (\n",
    "                    NIM VARCHAR(10) PRIMARY KEY NOT NULL ,\n",
    "                    NAMA VARCHAR(30) NOT NULL,\n",
    "                    ALAMAT VARCHAR(255),\n",
    "                    UMUR CHAR(10),\n",
    "                    MATA_KULIAH_KODE VARCHAR(10),\n",
    "                    FOREIGN KEY (MATA_KULIAH_KODE) REFERENCES MATA_KULIAH(KODE_MATKUL) \n",
    "                    )\"\"\"\n",
    "\n",
    "cursorObject.execute(mahasiswaTable) #menjalankan perintah SQL untuk membuat tabel MAHASISWA\n",
    "print(\"Tabel Mahasiswa berhasil dibuat\")#print pesan berhasil\n",
    "\n",
    "# membuat Tabel Dosen\n",
    "#kolom NIP, NAMA, ALAMAT, dan MATA_KULIAH_KODE. Perintah SQL tersebut juga mendefinisikan MATA_KULIAH_KODE sebagai foreign key yang mengacu pada kolom KODE_MATKUL di tabel MATA_KULIAH\n",
    "dosenTable = \"\"\"CREATE TABLE DOSEN (\n",
    "                NIP VARCHAR(20) PRIMARY KEY NOT NULL,\n",
    "                NAMA VARCHAR(50) NOT NULL,\n",
    "                ALAMAT VARCHAR(255),\n",
    "                MATA_KULIAH_KODE VARCHAR(10),\n",
    "                FOREIGN KEY (MATA_KULIAH_KODE) REFERENCES MATA_KULIAH(KODE_MATKUL)\n",
    "                )\"\"\"\n",
    "\n",
    "cursorObject.execute(dosenTable) #menjalankan perintah SQL untuk membuat tabel DOSEN\n",
    "print(\"Tabel Dosen berhasil dibuat\") #print pesan berhasil\n",
    "\n",
    "dataBase.close() #menutup koneksi ke MySQL setelah semua operasi selesai dilakukan.\n"
   ]
  },
  {
   "cell_type": "code",
   "execution_count": 6,
   "id": "725ae46b",
   "metadata": {},
   "outputs": [
    {
     "name": "stdout",
     "output_type": "stream",
     "text": [
      "Data mata kuliah berhasil ditambahkan\n",
      "Data mahasiswa berhasil ditambahkan\n",
      "Data dosen berhasil ditambahkan\n"
     ]
    }
   ],
   "source": [
    "# menghubungkan dan mengoperasikan database MySQL dari Python\n",
    "import mysql.connector\n",
    "\n",
    "#buat koneksi ke database MySQL\n",
    "dataBase = mysql.connector.connect(\n",
    "    host=\"localhost\",\n",
    "    user=\"root\",\n",
    "    passwd=\"\",\n",
    "    database=\"d3_ti_2023\"\n",
    ")\n",
    "\n",
    "cursorObject = dataBase.cursor() #mengeksekusi perintah SQL dan mengambil hasilnya\n",
    "\n",
    "# Insert data into MATA_KULIAH table\n",
    "#menambahkan data pada tabel mata kuliah\n",
    "matkulData = [\n",
    "    (\"MK001\", \"Pemrograman\", \"2023-04-01\", \"LAB01\"),\n",
    "    (\"MK002\", \"Basis Data\", \"2023-04-02\", \"LAB02\"),\n",
    "    (\"MK003\", \"Jaringan Komputer\", \"2023-04-03\", \"LAB03\"),\n",
    "    (\"MK004\", \"Sistem Operasi\", \"2023-04-04\", \"LAB04\"),\n",
    "    (\"MK005\", \"Algoritma dan Struktur Data\", \"2023-04-05\", \"LAB05\")\n",
    "]\n",
    "\n",
    "#variabel yang menyimpan sebuah string SQL query untuk melakukan operasi INSERT data ke tabel MATA_KULIAH\n",
    "matkulQuery = \"INSERT INTO MATA_KULIAH (KODE_MATKUL, NAMA, WAKTU, RUANGAN) VALUES (%s, %s, %s, %s)\"\n",
    "\n",
    "cursorObject.executemany(matkulQuery, matkulData)#mengeksekusi SQL query pada cursorObject dengan melakukan banyak eksekusi, yaitu melakukan banyak penggantian terhadap %s pada query dengan nilai yang terdapat pada list matkulData\n",
    "dataBase.commit() #melakukan komit pada database dan mengaplikasikan setiap perubahan pada database\n",
    "print(\"Data mata kuliah berhasil ditambahkan\") #print pesan berhasil\n",
    "\n",
    "# Insert data into MAHASISWA table\n",
    "mahasiswaData = [\n",
    "    (\"101\", \"Andi\", \"Jl. Sudirman\", \"21\", \"MK001\"),\n",
    "    (\"102\", \"Budi\", \"Jl. Thamrin\", \"22\", \"MK001\"),\n",
    "    (\"103\", \"Cici\", \"Jl. Sisingamangaraja\", \"23\", \"MK002\"),\n",
    "    (\"104\", \"Dedi\", \"Jl. Jlata\", \"24\", \"MK002\"),\n",
    "    (\"105\", \"Eka\", \"Jl. Diponegoro\", \"25\", \"MK003\"),\n",
    "    (\"106\", \"Fani\", \"Jl. Gajah Mada\", \"26\", \"MK003\"),\n",
    "    (\"107\", \"Gita\", \"Jl. Imam Bonjol\", \"27\", \"MK004\"),\n",
    "    (\"108\", \"Hadi\", \"Jl. Pahlawan\", \"28\", \"MK004\"),\n",
    "    (\"109\", \"Indra\", \"Jl. Urip Sumoharjo\", \"29\", \"MK005\"),\n",
    "    (\"110\", \"Joko\", \"Jl. Slamet Riyadi\", \"30\", \"MK005\")\n",
    "]\n",
    "\n",
    "#variabel yang menyimpan sebuah string SQL query untuk melakukan operasi INSERT data ke tabel MAHASISWA\n",
    "mahasiswaQuery = \"INSERT INTO MAHASISWA (NIM, NAMA, ALAMAT, UMUR, MATA_KULIAH_KODE) VALUES (%s, %s, %s, %s, %s)\"\n",
    "\n",
    "cursorObject.executemany(mahasiswaQuery, mahasiswaData)#mengeksekusi SQL query pada cursorObject dengan melakukan banyak eksekusi, yaitu melakukan banyak penggantian terhadap %s pada query dengan nilai yang terdapat pada list mahasiswaData\n",
    "dataBase.commit() # melakukan komit pada database dan mengaplikasikan setiap perubahan pada database\n",
    "print(\"Data mahasiswa berhasil ditambahkan\")#print pesan berhasil\n",
    "\n",
    "#Insert data into DOSEN table\n",
    "dosenData = [\n",
    "    (\"DO001\", \"Drs. Imam S\", \"Jl. Merdeka\", \"MK001\"),\n",
    "    (\"DO002\", \"Dr. Andri Y\", \"Jl. Kartini\", \"MK002\"),\n",
    "    (\"DO003\", \"Drs. Ali M\", \"Jl. Asia Afrika\", \"MK003\"),\n",
    "    (\"DO004\", \"Dr. Sari S\", \"Jl. Sisingamangaraja\", \"MK004\"),\n",
    "    (\"DO005\", \"Drs. Budi A\", \"Jl. Pandanaran\", \"MK005\")\n",
    "]\n",
    "\n",
    "#variabel yang menyimpan sebuah string SQL query untuk melakukan operasi INSERT data ke tabel DOSEN\n",
    "dosenQuery = \"INSERT INTO DOSEN (NIP, NAMA, ALAMAT, MATA_KULIAH_KODE) VALUES (%s, %s, %s, %s)\"\n",
    "\n",
    "cursorObject.executemany(dosenQuery, dosenData)#mengeksekusi SQL query pada cursorObject dengan melakukan banyak eksekusi, yaitu melakukan banyak penggantian terhadap %s pada query dengan nilai yang terdapat pada list dosenData\n",
    "dataBase.commit()#melakukan komit pada database dan mengaplikasikan setiap perubahan pada database.\n",
    "print(\"Data dosen berhasil ditambahkan\")#print pesan berhasil\n",
    "\n",
    "dataBase.close() #menutup koneksi ke MySQL setelah semua operasi selesai dilakukan."
   ]
  },
  {
   "cell_type": "code",
   "execution_count": 7,
   "id": "bb3d70eb",
   "metadata": {},
   "outputs": [
    {
     "name": "stdout",
     "output_type": "stream",
     "text": [
      "('MK001', 'Pemrograman', datetime.date(2023, 4, 1), 'LAB01')\n",
      "('MK002', 'Basis Data', datetime.date(2023, 4, 2), 'LAB02')\n",
      "('MK003', 'Jaringan Komputer', datetime.date(2023, 4, 3), 'LAB03')\n",
      "('MK004', 'Sistem Operasi', datetime.date(2023, 4, 4), 'LAB04')\n",
      "('MK005', 'Algoritma dan Struktur Data', datetime.date(2023, 4, 5), 'LAB05')\n"
     ]
    }
   ],
   "source": [
    "#mengimport package mysql.connector yang digunakan untuk terhubung dengan database MySQL\n",
    "import mysql.connector\n",
    "\n",
    "#mengkoneksikan ke database\n",
    "dataBase = mysql.connector.connect(\n",
    "    host=\"localhost\",\n",
    "    user=\"root\",\n",
    "    passwd=\"\",\n",
    "    database=\"d3_ti_2023\"\n",
    ")\n",
    "\n",
    "#membuat objek cursor untuk menjalankan perintah SQL di dalam database\n",
    "cursorObject = dataBase.cursor()\n",
    "\n",
    "# Select data dari tabel MATA_KULIAH\n",
    "matkulQuery = \"SELECT * FROM MATA_KULIAH\" #menyimpan query untuk mengambil semua data dari tabel MATA_KULIAH\n",
    "\n",
    "cursorObject.execute(matkulQuery) #mengeksekusi query yang telah disimpan di variabel matkulQuery\n",
    "matkulResult = cursorObject.fetchall() #yaitu mengambil seluruh baris data yang ditemukan pada tabel MATA_KULIAH \n",
    "\n",
    "for matkul in matkulResult: #melakukan perulangan di setiap data pada matkul resullt\n",
    "    print(matkul) #print data yang diambil dari tabel mata kuliah \n",
    "\n",
    "dataBase.close() # menutup koneksi database\n"
   ]
  },
  {
   "cell_type": "code",
   "execution_count": 8,
   "id": "9a4b3962",
   "metadata": {},
   "outputs": [
    {
     "name": "stdout",
     "output_type": "stream",
     "text": [
      "('101', 'Andi', 'Jl. Sudirman', '21', 'MK001')\n",
      "('102', 'Budi', 'Jl. Thamrin', '22', 'MK001')\n",
      "('103', 'Cici', 'Jl. Sisingamangaraja', '23', 'MK002')\n",
      "('104', 'Dedi', 'Jl. Jlata', '24', 'MK002')\n",
      "('105', 'Eka', 'Jl. Diponegoro', '25', 'MK003')\n",
      "('106', 'Fani', 'Jl. Gajah Mada', '26', 'MK003')\n",
      "('107', 'Gita', 'Jl. Imam Bonjol', '27', 'MK004')\n",
      "('108', 'Hadi', 'Jl. Pahlawan', '28', 'MK004')\n",
      "('109', 'Indra', 'Jl. Urip Sumoharjo', '29', 'MK005')\n",
      "('110', 'Joko', 'Jl. Slamet Riyadi', '30', 'MK005')\n"
     ]
    }
   ],
   "source": [
    "#mengimport package mysql.connector yang digunakan untuk terhubung dengan database MySQL\n",
    "import mysql.connector\n",
    "\n",
    "#mengkoneksikan ke database\n",
    "dataBase = mysql.connector.connect(\n",
    "    host=\"localhost\",\n",
    "    user=\"root\",\n",
    "    passwd=\"\",\n",
    "    database=\"d3_ti_2023\"\n",
    ")\n",
    "\n",
    "#membuat objek cursor untuk menjalankan perintah SQL di dalam database\n",
    "cursorObject = dataBase.cursor()\n",
    "\n",
    "# Select data dari tabel MAHASISWA\n",
    "mahasiswaQuery = \"SELECT * FROM MAHASISWA\" #menyimpan query untuk mengambil semua data dari tabel MAHASISWA\n",
    "\n",
    "cursorObject.execute(mahasiswaQuery) #mengeksekusi query yang telah disimpan di variabel mahasiswaQuery\n",
    "mahasiswaResult = cursorObject.fetchall() #yaitu mengambil seluruh baris data yang ditemukan pada tabel MAHASISWA \n",
    "\n",
    "for mahasiswa in mahasiswaResult: #melakukan perulangan di setiap data pada mahasiswa resullt\n",
    "    print(mahasiswa) #print data yang diambil dari tabel mahasiswa\n",
    "\n",
    "dataBase.close() # menutup koneksi database"
   ]
  },
  {
   "cell_type": "code",
   "execution_count": 9,
   "id": "e6c277b8",
   "metadata": {},
   "outputs": [
    {
     "name": "stdout",
     "output_type": "stream",
     "text": [
      "('101', 'Andi', 'Jl. Sudirman', '21', 'MK001')\n",
      "('102', 'Budi', 'Jl. Thamrin', '22', 'MK001')\n",
      "('103', 'Cici', 'Jl. Sisingamangaraja', '23', 'MK002')\n",
      "('104', 'Dedi', 'Jl. Jlata', '24', 'MK002')\n",
      "('105', 'Eka', 'Jl. Diponegoro', '25', 'MK003')\n",
      "('106', 'Fani', 'Jl. Gajah Mada', '26', 'MK003')\n",
      "('107', 'Gita', 'Jl. Imam Bonjol', '27', 'MK004')\n",
      "('108', 'Hadi', 'Jl. Pahlawan', '28', 'MK004')\n",
      "('109', 'Indra', 'Jl. Urip Sumoharjo', '29', 'MK005')\n",
      "('110', 'Joko', 'Jl. Slamet Riyadi', '30', 'MK005')\n"
     ]
    }
   ],
   "source": [
    "#mengimport package mysql.connector yang digunakan untuk terhubung dengan database MySQL\n",
    "import mysql.connector\n",
    "\n",
    "#mengkoneksikan ke database\n",
    "dataBase = mysql.connector.connect(\n",
    "    host=\"localhost\",\n",
    "    user=\"root\",\n",
    "    passwd=\"\",\n",
    "    database=\"d3_ti_2023\"\n",
    ")\n",
    "\n",
    "#membuat objek cursor untuk menjalankan perintah SQL di dalam database\n",
    "cursorObject = dataBase.cursor()\n",
    "\n",
    "# Select data dari tabel DOSEN\n",
    "dosenQuery = \"SELECT * FROM DOSEN\" #menyimpan query untuk mengambil semua data dari tabel DOSEN\n",
    "\n",
    "cursorObject.execute(dosenQuery) #mengeksekusi query yang telah disimpan di variabel dosenQuery\n",
    "dosenResult = cursorObject.fetchall() #yaitu mengambil seluruh baris data yang ditemukan pada tabel DOSEN \n",
    "\n",
    "for dosen in mahasiswaResult: #melakukan perulangan di setiap data pada dosen resullt\n",
    "    print(dosen) #print data yang diambil dari tabel dosen\n",
    "\n",
    "dataBase.close() # menutup koneksi database"
   ]
  },
  {
   "cell_type": "code",
   "execution_count": 19,
   "id": "e6ab6c5b",
   "metadata": {},
   "outputs": [
    {
     "name": "stdout",
     "output_type": "stream",
     "text": [
      "Nama Mahasiswa:  Andi\n",
      "Nama Mata Kuliah:  Pemrograman\n",
      "Nama Dosen:  Drs. Imam S\n",
      "\n",
      "Nama Mahasiswa:  Budi\n",
      "Nama Mata Kuliah:  Pemrograman\n",
      "Nama Dosen:  Drs. Imam S\n",
      "\n",
      "Nama Mahasiswa:  Cici\n",
      "Nama Mata Kuliah:  Basis Data\n",
      "Nama Dosen:  Dr. Andri Y\n",
      "\n",
      "Nama Mahasiswa:  Dedi\n",
      "Nama Mata Kuliah:  Basis Data\n",
      "Nama Dosen:  Dr. Andri Y\n",
      "\n",
      "Nama Mahasiswa:  Eka\n",
      "Nama Mata Kuliah:  Jaringan Komputer\n",
      "Nama Dosen:  Drs. Ali M\n",
      "\n",
      "Nama Mahasiswa:  Fani\n",
      "Nama Mata Kuliah:  Jaringan Komputer\n",
      "Nama Dosen:  Drs. Ali M\n",
      "\n",
      "Nama Mahasiswa:  Gita\n",
      "Nama Mata Kuliah:  Sistem Operasi\n",
      "Nama Dosen:  Dr. Sari S\n",
      "\n",
      "Nama Mahasiswa:  Hadi\n",
      "Nama Mata Kuliah:  Sistem Operasi\n",
      "Nama Dosen:  Dr. Sari S\n",
      "\n",
      "Nama Mahasiswa:  Indra\n",
      "Nama Mata Kuliah:  Algoritma dan Struktur Data\n",
      "Nama Dosen:  Drs. Budi A\n",
      "\n",
      "Nama Mahasiswa:  Joko\n",
      "Nama Mata Kuliah:  Algoritma dan Struktur Data\n",
      "Nama Dosen:  Drs. Budi A\n",
      "\n"
     ]
    }
   ],
   "source": [
    "import mysql.connector\n",
    "\n",
    "# membuat koneksi ke database\n",
    "mydb = mysql.connector.connect(\n",
    "  host=\"localhost\",\n",
    "  user=\"root\",\n",
    "  password=\"\",\n",
    "  database=\"d3_ti_2023\"\n",
    ")\n",
    "\n",
    "# membuat objek cursor\n",
    "cursorObject = mydb.cursor()\n",
    "\n",
    "# menuliskan perintah SQL untuk melakukan join antara tabel MAHASISWA, MATA_KULIAH, dan DOSEN\n",
    "selectQuery = \"SELECT MAHASISWA.NAMA AS NAMA_MAHASISWA, MATA_KULIAH.NAMA AS NAMA_MATKUL, DOSEN.NAMA AS NAMA_DOSEN FROM MAHASISWA JOIN MATA_KULIAH ON MAHASISWA.MATA_KULIAH_KODE = MATA_KULIAH.KODE_MATKUL JOIN DOSEN ON MATA_KULIAH.KODE_MATKUL = DOSEN.MATA_KULIAH_KODE\"\n",
    "\n",
    "# mengeksekusi perintah SQL untuk melakukan join antara tabel MAHASISWA, MATA_KULIAH, dan DOSEN\n",
    "cursorObject.execute(selectQuery)\n",
    "\n",
    "# mengambil hasil join dan menampilkannya\n",
    "result = cursorObject.fetchall()\n",
    "for row in result:\n",
    "    # mengambil nilai NAMA_MAHASISWA, NAMA_MATKUL, dan NAMA_DOSEN dari setiap baris hasil join\n",
    "    nama_mahasiswa = row[0]\n",
    "    nama_matkul = row[1]\n",
    "    nama_dosen = row[2]\n",
    "    \n",
    "    # menampilkan nilai NAMA_MAHASISWA, NAMA_MATKUL, dan NAMA_DOSEN dalam format yang diminta\n",
    "    print(\"Nama Mahasiswa: \", nama_mahasiswa)\n",
    "    print(\"Nama Mata Kuliah: \", nama_matkul)\n",
    "    print(\"Nama Dosen: \", nama_dosen)\n",
    "    print()\n"
   ]
  },
  {
   "cell_type": "code",
   "execution_count": null,
   "id": "eadee9d5",
   "metadata": {},
   "outputs": [],
   "source": []
  }
 ],
 "metadata": {
  "kernelspec": {
   "display_name": "Python 3 (ipykernel)",
   "language": "python",
   "name": "python3"
  },
  "language_info": {
   "codemirror_mode": {
    "name": "ipython",
    "version": 3
   },
   "file_extension": ".py",
   "mimetype": "text/x-python",
   "name": "python",
   "nbconvert_exporter": "python",
   "pygments_lexer": "ipython3",
   "version": "3.10.9"
  }
 },
 "nbformat": 4,
 "nbformat_minor": 5
}
